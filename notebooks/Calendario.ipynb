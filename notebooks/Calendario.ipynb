{
 "cells": [
  {
   "cell_type": "code",
   "execution_count": null,
   "id": "8befa621-133a-4639-a17f-9a4f84928233",
   "metadata": {
    "microsoft": {
     "language": "python",
     "language_group": "synapse_pyspark"
    }
   },
   "outputs": [],
   "source": [
    "%%pyspark\n",
    "# Set case sensitive for table and column names\n",
    "spark.conf.set('spark.sql.caseSensitive', True)"
   ]
  },
  {
   "cell_type": "code",
   "execution_count": null,
   "id": "f8f880be-68c8-422e-bc39-1a80e25f5b0b",
   "metadata": {
    "collapsed": false,
    "microsoft": {
     "language": "sparksql",
     "language_group": "synapse_pyspark"
    }
   },
   "outputs": [],
   "source": [
    "-- Parâmetros\n",
    "SET cal.start = 2020-01-01;\n",
    "SET cal.end   = 2025-12-31;\n",
    "\n",
    "-- Cria/substitui a tabela gerenciada no Lakehouse (Tables/Calendario)\n",
    "CREATE OR REPLACE TABLE Calendario\n",
    "USING delta\n",
    "AS\n",
    "WITH dates AS (\n",
    "  SELECT explode(\n",
    "           sequence(\n",
    "             to_date('${cal.start}'),\n",
    "             to_date('${cal.end}'),\n",
    "             interval 1 day\n",
    "           )\n",
    "         ) AS d\n",
    ")\n",
    "SELECT\n",
    "  CAST(d AS DATE)                                  AS Data,          \n",
    "  year(d)                                          AS Ano,          \n",
    "  concat(date_format(d,'yyyy'), ' Q', quarter(d))  AS Trimestre,  -- \"YYYY Q1\"\n",
    "  concat(\n",
    "    date_format(d,'yyyy'), ' ',\n",
    "    array('Jan','Fev','Mar','Abr','Mai','Jun','Jul','Ago','Set','Out','Nov','Dez')[month(d)-1]                                      \n",
    "  )                                        AS Mes,    -- \"2025 Jan\" / \"2025 Fev\"...\n",
    "  CAST(date_format(d,'yyyyMM') AS INT)     AS MesOrdinal   -- 202501 etc.\n",
    "FROM dates;\n"
   ]
  }
 ],
 "metadata": {
  "dependencies": {
   "lakehouse": {
    "default_lakehouse": "c8ff1e00-35ab-4743-9399-2504f666c867",
    "default_lakehouse_name": "LK_SparkBlobMedallion",
    "default_lakehouse_workspace_id": "22faa9df-ae9d-4b3e-8f77-9d47b85702d9",
    "known_lakehouses": [
     {
      "id": "c8ff1e00-35ab-4743-9399-2504f666c867"
     }
    ]
   },
   "warehouse": {
    "known_warehouses": []
   }
  },
  "kernel_info": {
   "name": "synapse_pyspark"
  },
  "kernelspec": {
   "display_name": "Synapse PySpark",
   "name": "synapse_pyspark"
  },
  "language_info": {
   "name": "sql"
  },
  "microsoft": {
   "language": "sparksql",
   "language_group": "synapse_pyspark",
   "ms_spell_check": {
    "ms_spell_check_language": "en"
   }
  },
  "nteract": {
   "version": "nteract-front-end@1.0.0"
  },
  "spark_compute": {
   "compute_id": "/trident/default",
   "session_options": {
    "conf": {
     "spark.synapse.nbs.session.timeout": "1200000"
    }
   }
  }
 },
 "nbformat": 4,
 "nbformat_minor": 5
}
